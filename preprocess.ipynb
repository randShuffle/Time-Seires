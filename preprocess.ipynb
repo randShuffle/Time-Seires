{
 "cells": [
  {
   "cell_type": "code",
   "execution_count": 4,
   "metadata": {},
   "outputs": [
    {
     "name": "stdout",
     "output_type": "stream",
     "text": [
      "['1001_0_20210730.xlsx', '1002_0_20210504.xlsx', '1002_1_20210521.xlsx', '1002_2_20210909.xlsx', '1003_0_20210831.xlsx', '1004_0_20210425.xlsx', '1005_0_20210522.xlsx', '1006_0_20210114.xlsx', '1006_1_20210209.xlsx', '1006_2_20210303.xlsx', '1007_0_20210726.xlsx', '1008_0_20210713.xlsx', '1009_0_20210803.xlsx', '1010_0_20210915.xlsx', '1011_0_20210622.xlsx', '1012_0_20210923.xlsx']\n"
     ]
    }
   ],
   "source": [
    "import os\n",
    "\n",
    "# 设置您想要列出文件的目录的路径\n",
    "folder_path = './diabetes_datasets/Shanghai_T1DM_processed/Shanghai_T1DM_processed/'\n",
    "\n",
    "# 获取文件夹下的所有文件和文件夹名称\n",
    "files_and_folders = os.listdir(folder_path)\n",
    "\n",
    "# 如果您只想列出文件，可以进一步过滤\n",
    "files = [f for f in files_and_folders if os.path.isfile(os.path.join(folder_path, f))]\n",
    "\n",
    "# files.remove('.DS_Store')\n",
    "# 打印所有文件名\n",
    "print(files)"
   ]
  },
  {
   "cell_type": "code",
   "execution_count": 5,
   "metadata": {},
   "outputs": [],
   "source": [
    "import pandas as pd\n",
    "\n",
    "\n",
    "output_path = './diabetes_datasets/T1'\n",
    "def preprocess(filename:str):\n",
    "    df=pd.read_excel(folder_path+'/'+filename)\n",
    "    df['CSII - basal insulin (Novolin R, IU / H)'] = df['CSII - basal insulin (Novolin R, IU / H)'].fillna(method='ffill')\n",
    "    df['CSII - basal insulin (Novolin R, IU / H)'] = pd.to_numeric(df['CSII - basal insulin (Novolin R, IU / H)'], errors='coerce').fillna(0)\n",
    "    df['CSII - basal insulin (Novolin R, IU / H)'] = df['CSII - basal insulin (Novolin R, IU / H)'].fillna(0)\n",
    "    df['carbohydrate']=df['carbohydrate'].fillna(0)\n",
    "    df['protein']=df['protein'].fillna(0)\n",
    "    df['fat']=df['fat'].fillna(0)\n",
    "    df['cellulose']=df['cellulose'].fillna(0)\n",
    "    df=df[['CGM (mg / dl)','CSII - basal insulin (Novolin R, IU / H)','carbohydrate','protein','fat','cellulose']]\n",
    "    name, ext = os.path.splitext(output_path+'/'+filename)\n",
    "    new_filename = name + '.csv'\n",
    "    df.to_csv(new_filename,index=False)\n",
    "\n",
    "for file in files:\n",
    "    preprocess(file)"
   ]
  }
 ],
 "metadata": {
  "kernelspec": {
   "display_name": "xai",
   "language": "python",
   "name": "python3"
  },
  "language_info": {
   "codemirror_mode": {
    "name": "ipython",
    "version": 3
   },
   "file_extension": ".py",
   "mimetype": "text/x-python",
   "name": "python",
   "nbconvert_exporter": "python",
   "pygments_lexer": "ipython3",
   "version": "3.9.18"
  }
 },
 "nbformat": 4,
 "nbformat_minor": 2
}
