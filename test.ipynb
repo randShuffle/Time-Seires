{
 "cells": [
  {
   "cell_type": "code",
   "execution_count": 1,
   "metadata": {},
   "outputs": [
    {
     "name": "stdout",
     "output_type": "stream",
     "text": [
      "原始张量形状: torch.Size([1, 3, 1, 5])\n",
      "移除所有维度为1后的形状: torch.Size([3, 5])\n"
     ]
    }
   ],
   "source": [
    "import torch\n",
    "\n",
    "# 创建一个形状为 (1, 3, 1, 5) 的张量\n",
    "x = torch.randn(1, 3, 1, 5)\n",
    "print(\"原始张量形状:\", x.shape)\n",
    "\n",
    "# 使用 squeeze 移除所有维度为1的维度\n",
    "y = torch.squeeze(x)\n",
    "print(\"移除所有维度为1后的形状:\", y.shape)"
   ]
  },
  {
   "cell_type": "code",
   "execution_count": 9,
   "metadata": {},
   "outputs": [
    {
     "data": {
      "text/plain": [
       "torch.Size([1, 3, 1, 5])"
      ]
     },
     "execution_count": 9,
     "metadata": {},
     "output_type": "execute_result"
    }
   ],
   "source": [
    "import torch\n",
    "\n",
    "# 创建一个形状为 (1, 3, 1, 5) 的张量\n",
    "x = torch.randn(1, 3, 1, 5)\n",
    "x=x.squeeze(-1)\n",
    "x.shape"
   ]
  }
 ],
 "metadata": {
  "kernelspec": {
   "display_name": "transformers",
   "language": "python",
   "name": "python3"
  },
  "language_info": {
   "codemirror_mode": {
    "name": "ipython",
    "version": 3
   },
   "file_extension": ".py",
   "mimetype": "text/x-python",
   "name": "python",
   "nbconvert_exporter": "python",
   "pygments_lexer": "ipython3",
   "version": "3.9.18"
  }
 },
 "nbformat": 4,
 "nbformat_minor": 2
}
