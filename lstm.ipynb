{
 "cells": [
  {
   "cell_type": "code",
   "execution_count": 1,
   "metadata": {},
   "outputs": [],
   "source": [
    "import pandas as pd\n",
    "import numpy as np\n",
    "import os\n",
    "\n",
    "\n",
    "def createXY(dataset: pd.DataFrame, n_past: int, column_target: str):\n",
    "    dataX, dataY = [], []\n",
    "    for i in range(n_past, len(dataset)):\n",
    "        dataX.append(dataset.iloc[i - n_past:i].values)\n",
    "        dataY.append(dataset[column_target].values[i])\n",
    "    # Convert lists to numpy arrays for uniformity\n",
    "    return np.array(dataX), np.array(dataY)\n",
    "\n",
    "def process_files(columns_all, column_target, folder_path, n_past=1):\n",
    "    all_dataX, all_dataY = np.array([]), np.array([])\n",
    "    for filename in os.listdir(folder_path):\n",
    "        file_path = os.path.join(folder_path, filename)\n",
    "        if os.path.isfile(file_path):\n",
    "            series = pd.read_csv(file_path)\n",
    "            single_dataset = series[columns_all]\n",
    "            dataX, dataY = createXY(single_dataset, n_past, column_target[0])\n",
    "            # Concatenate the new arrays with the existing ones\n",
    "            all_dataX = np.vstack([all_dataX, dataX]) if all_dataX.size else dataX\n",
    "            all_dataY = np.concatenate([all_dataY, dataY]) if all_dataY.size else dataY\n",
    "    return all_dataX, all_dataY\n",
    "\n",
    "columns_all = ['CGM (mg / dl)', 'CSII - basal insulin (Novolin R, IU / H)']\n",
    "column_target = ['CGM (mg / dl)']\n",
    "folder_path = './diabetes_datasets/T1'\n",
    "dataX, dataY = process_files(columns_all, column_target, folder_path, n_past=8)\n"
   ]
  },
  {
   "cell_type": "code",
   "execution_count": 2,
   "metadata": {},
   "outputs": [],
   "source": [
    "train_num= int(len(dataX)*0.8)\n",
    "trainX, trainY = dataX[:train_num], dataY[:train_num]\n",
    "testX, testY = dataX[train_num:], dataY[train_num:]"
   ]
  },
  {
   "cell_type": "code",
   "execution_count": 3,
   "metadata": {},
   "outputs": [
    {
     "data": {
      "text/plain": [
       "2"
      ]
     },
     "execution_count": 3,
     "metadata": {},
     "output_type": "execute_result"
    }
   ],
   "source": [
    "testX.shape[2]"
   ]
  },
  {
   "cell_type": "code",
   "execution_count": 4,
   "metadata": {},
   "outputs": [],
   "source": [
    "import numpy as np\n",
    "import torch\n",
    "from torch import nn\n",
    "from skorch import NeuralNetRegressor\n",
    "from sklearn.model_selection import GridSearchCV\n",
    "\n",
    "feature_nums=testX.shape[2]\n",
    "\n",
    "class LSTMRegressor(nn.Module):\n",
    "    def __init__(self, num_units=50, dropout=0.2):\n",
    "        super(LSTMRegressor, self).__init__()\n",
    "        self.lstm1 = nn.LSTM(input_size=feature_nums, hidden_size=num_units, batch_first=True)\n",
    "        self.lstm2 = nn.LSTM(input_size=num_units, hidden_size=num_units, batch_first=True)\n",
    "        self.dropout = nn.Dropout(dropout)\n",
    "        self.dense = nn.Linear(in_features=num_units, out_features=1)\n",
    "    \n",
    "    def forward(self, X):\n",
    "        X, _ = self.lstm1(X)\n",
    "        X, _ = self.lstm2(X)\n",
    "        X = self.dropout(X)\n",
    "        X = X[:, -1, :]  # Get the last sequence output\n",
    "        X = self.dense(X)\n",
    "        return X\n",
    "\n",
    "\n",
    "# Wrap the model with Skorch\n",
    "net = NeuralNetRegressor(\n",
    "    module=LSTMRegressor,\n",
    "    criterion=nn.MSELoss,\n",
    "    optimizer=torch.optim.Adam,\n",
    "    lr=0.001,\n",
    "    batch_size=16,\n",
    "    max_epochs=10,\n",
    "    # iterator_train__shuffle=True,\n",
    "    verbose=1,\n",
    ")\n",
    "\n",
    "# Parameters for grid search\n",
    "params = {\n",
    "    'lr': [0.001],\n",
    "    'max_epochs': [50],\n",
    "    'module__num_units': [50],\n",
    "    'module__dropout': [0.2],\n",
    "}\n",
    "\n",
    "# Convert input data to Torch tensors\n",
    "# Assuming `trainX`, `trainY` are your input and output training data respectively\n",
    "X_train = torch.tensor(trainX.astype(np.float32))\n",
    "y_train = torch.tensor(trainY.astype(np.float32))\n",
    "\n",
    "# Note: Skorch expects 2D input for y. If y_train is 1D, you might need to reshape it\n",
    "if y_train.ndim == 1:\n",
    "    y_train = y_train.view(-1, 1)\n",
    "\n"
   ]
  },
  {
   "cell_type": "code",
   "execution_count": 5,
   "metadata": {},
   "outputs": [
    {
     "name": "stdout",
     "output_type": "stream",
     "text": [
      "  epoch    train_loss    valid_loss     dur\n",
      "-------  ------------  ------------  ------\n",
      "      1    \u001b[36m32944.6636\u001b[0m    \u001b[32m21814.5957\u001b[0m  3.9115\n",
      "      2    \u001b[36m28309.8297\u001b[0m    \u001b[32m18340.3906\u001b[0m  3.7247\n",
      "      3    \u001b[36m24545.3452\u001b[0m    \u001b[32m15431.6985\u001b[0m  3.1597\n",
      "      4    \u001b[36m21306.7094\u001b[0m    \u001b[32m12992.0190\u001b[0m  2.9893\n",
      "      5    \u001b[36m18545.5734\u001b[0m    \u001b[32m10964.5299\u001b[0m  3.0906\n",
      "      6    \u001b[36m16202.3249\u001b[0m     \u001b[32m9297.6910\u001b[0m  3.1445\n",
      "      7    \u001b[36m14227.9917\u001b[0m     \u001b[32m7947.4252\u001b[0m  2.9655\n",
      "      8    \u001b[36m12575.4810\u001b[0m     \u001b[32m6874.1525\u001b[0m  2.9323\n",
      "      9    \u001b[36m11233.7194\u001b[0m     \u001b[32m6040.3734\u001b[0m  2.9582\n",
      "     10    \u001b[36m10127.4786\u001b[0m     \u001b[32m5411.1895\u001b[0m  2.9747\n",
      "     11     \u001b[36m9267.3300\u001b[0m     \u001b[32m4952.1058\u001b[0m  2.9582\n",
      "     12     \u001b[36m8145.6526\u001b[0m     \u001b[32m3742.9942\u001b[0m  3.2486\n",
      "     13     \u001b[36m6895.4552\u001b[0m     \u001b[32m3149.8091\u001b[0m  3.3851\n",
      "     14     \u001b[36m6050.2661\u001b[0m     \u001b[32m2800.0905\u001b[0m  3.0730\n",
      "     15     \u001b[36m5242.6560\u001b[0m     \u001b[32m2319.4229\u001b[0m  2.9922\n",
      "     16     \u001b[36m4566.2958\u001b[0m     \u001b[32m1935.0429\u001b[0m  2.9605\n",
      "     17     \u001b[36m4018.4022\u001b[0m     \u001b[32m1582.1194\u001b[0m  3.0178\n",
      "     18     \u001b[36m3548.5151\u001b[0m     \u001b[32m1378.3908\u001b[0m  2.9150\n",
      "     19     \u001b[36m3126.2648\u001b[0m     \u001b[32m1134.2220\u001b[0m  3.0634\n",
      "     20     \u001b[36m2740.7998\u001b[0m      \u001b[32m963.7407\u001b[0m  2.9334\n",
      "     21     \u001b[36m2418.8122\u001b[0m      \u001b[32m815.0499\u001b[0m  2.8845\n",
      "     22     \u001b[36m2118.5179\u001b[0m      \u001b[32m682.5411\u001b[0m  3.0359\n",
      "     23     \u001b[36m1898.8595\u001b[0m      \u001b[32m588.2486\u001b[0m  2.9538\n",
      "     24     \u001b[36m1676.7176\u001b[0m      \u001b[32m497.6162\u001b[0m  2.8853\n",
      "     25     \u001b[36m1512.8426\u001b[0m      \u001b[32m453.8239\u001b[0m  2.9215\n",
      "     26     \u001b[36m1365.4191\u001b[0m      \u001b[32m371.2490\u001b[0m  2.9477\n",
      "     27     \u001b[36m1225.7963\u001b[0m      \u001b[32m341.5687\u001b[0m  3.0833\n",
      "     28     \u001b[36m1106.8425\u001b[0m      \u001b[32m264.9887\u001b[0m  2.9676\n",
      "     29      \u001b[36m988.2764\u001b[0m      \u001b[32m220.4928\u001b[0m  2.8620\n",
      "     30      \u001b[36m929.1237\u001b[0m      \u001b[32m195.7405\u001b[0m  2.9438\n",
      "     31      \u001b[36m836.6988\u001b[0m      \u001b[32m170.3577\u001b[0m  2.9302\n",
      "     32      \u001b[36m779.8196\u001b[0m      \u001b[32m146.2011\u001b[0m  2.8269\n",
      "     33      \u001b[36m762.4083\u001b[0m      \u001b[32m144.1653\u001b[0m  2.8460\n",
      "     34      \u001b[36m672.3769\u001b[0m      \u001b[32m128.0036\u001b[0m  3.0330\n",
      "     35      \u001b[36m630.0390\u001b[0m      \u001b[32m103.7125\u001b[0m  2.8760\n",
      "     36      \u001b[36m618.9177\u001b[0m       \u001b[32m90.3189\u001b[0m  2.8534\n",
      "     37      \u001b[36m571.7645\u001b[0m      102.9884  2.8861\n",
      "     38      580.1368       \u001b[32m79.2616\u001b[0m  2.9737\n",
      "     39      \u001b[36m527.3369\u001b[0m       \u001b[32m67.9730\u001b[0m  2.8778\n",
      "     40      \u001b[36m485.9571\u001b[0m       67.9879  2.8517\n",
      "     41      \u001b[36m482.6234\u001b[0m       \u001b[32m57.1398\u001b[0m  2.9388\n",
      "     42      \u001b[36m468.3735\u001b[0m       \u001b[32m54.4961\u001b[0m  2.9826\n",
      "     43      \u001b[36m443.7792\u001b[0m       84.9713  3.5086\n",
      "     44      \u001b[36m438.3808\u001b[0m       \u001b[32m48.7846\u001b[0m  3.3670\n",
      "     45      \u001b[36m419.0688\u001b[0m       74.3092  2.9150\n",
      "     46      \u001b[36m396.4985\u001b[0m       \u001b[32m45.6128\u001b[0m  2.9565\n",
      "     47      415.4261       50.5620  3.0049\n",
      "     48      \u001b[36m380.7358\u001b[0m      122.2660  2.9026\n",
      "     49      396.3623       50.1317  2.9635\n",
      "     50      381.4995       \u001b[32m42.5155\u001b[0m  2.9497\n",
      "  epoch    train_loss    valid_loss     dur\n",
      "-------  ------------  ------------  ------\n",
      "      1    \u001b[36m23886.0196\u001b[0m    \u001b[32m27211.3605\u001b[0m  2.8763\n",
      "      2    \u001b[36m19807.7484\u001b[0m    \u001b[32m23153.1746\u001b[0m  2.8545\n",
      "      3    \u001b[36m16706.6129\u001b[0m    \u001b[32m19763.6318\u001b[0m  2.8198\n",
      "      4    \u001b[36m14111.6292\u001b[0m    \u001b[32m16899.9142\u001b[0m  2.8817\n",
      "      5    \u001b[36m11993.9205\u001b[0m    \u001b[32m14493.8574\u001b[0m  2.9742\n",
      "      6    \u001b[36m10291.5353\u001b[0m    \u001b[32m12485.7525\u001b[0m  2.8282\n",
      "      7     \u001b[36m8877.9307\u001b[0m    \u001b[32m10821.7615\u001b[0m  2.8585\n",
      "      8     \u001b[36m7715.6584\u001b[0m     \u001b[32m9563.3739\u001b[0m  2.9088\n",
      "      9     \u001b[36m6534.6786\u001b[0m     \u001b[32m8090.1242\u001b[0m  2.9174\n",
      "     10     \u001b[36m5624.7691\u001b[0m     \u001b[32m6974.7063\u001b[0m  2.9850\n",
      "     11     \u001b[36m4903.8017\u001b[0m     \u001b[32m6024.2167\u001b[0m  2.9404\n",
      "     12     \u001b[36m4237.6071\u001b[0m     \u001b[32m5215.6700\u001b[0m  2.9844\n",
      "     13     \u001b[36m3707.5289\u001b[0m     \u001b[32m4519.9789\u001b[0m  3.0701\n",
      "     14     \u001b[36m3253.1923\u001b[0m     \u001b[32m3944.7848\u001b[0m  2.9337\n",
      "     15     \u001b[36m2869.4213\u001b[0m     \u001b[32m3450.4896\u001b[0m  2.9764\n",
      "     16     \u001b[36m2532.2391\u001b[0m     \u001b[32m2968.5301\u001b[0m  2.9497\n",
      "     17     \u001b[36m2231.6380\u001b[0m     \u001b[32m2576.6347\u001b[0m  2.9159\n",
      "     18     \u001b[36m1968.4737\u001b[0m     \u001b[32m2247.6847\u001b[0m  2.9031\n",
      "     19     \u001b[36m1770.3152\u001b[0m     \u001b[32m1957.4645\u001b[0m  2.9793\n",
      "     20     \u001b[36m1580.6510\u001b[0m     \u001b[32m1737.4711\u001b[0m  2.9943\n",
      "     21     \u001b[36m1417.3341\u001b[0m     \u001b[32m1499.3025\u001b[0m  2.9103\n",
      "     22     \u001b[36m1305.6881\u001b[0m     \u001b[32m1314.4085\u001b[0m  2.9052\n",
      "     23     \u001b[36m1156.2425\u001b[0m     \u001b[32m1147.4602\u001b[0m  2.9977\n",
      "     24     \u001b[36m1052.8086\u001b[0m     \u001b[32m1008.6127\u001b[0m  3.0121\n",
      "     25      \u001b[36m935.7855\u001b[0m      \u001b[32m891.1574\u001b[0m  2.9650\n",
      "     26      \u001b[36m855.5916\u001b[0m      \u001b[32m776.3461\u001b[0m  2.9925\n",
      "     27      \u001b[36m792.3864\u001b[0m      \u001b[32m692.5082\u001b[0m  3.0178\n",
      "     28      \u001b[36m723.2392\u001b[0m      \u001b[32m605.2538\u001b[0m  3.0681\n",
      "     29      \u001b[36m672.2294\u001b[0m      \u001b[32m540.9894\u001b[0m  2.9789\n",
      "     30      \u001b[36m620.2018\u001b[0m      \u001b[32m490.5745\u001b[0m  3.0024\n",
      "     31      \u001b[36m575.1187\u001b[0m      \u001b[32m429.8254\u001b[0m  3.1247\n",
      "     32      \u001b[36m564.3951\u001b[0m      \u001b[32m400.0495\u001b[0m  2.9611\n",
      "     33      \u001b[36m514.6262\u001b[0m      \u001b[32m348.9403\u001b[0m  2.9456\n",
      "     34      \u001b[36m476.6256\u001b[0m      \u001b[32m326.8657\u001b[0m  2.9537\n",
      "     35      \u001b[36m455.1626\u001b[0m      \u001b[32m296.2618\u001b[0m  3.0242\n",
      "     36      \u001b[36m434.8644\u001b[0m      \u001b[32m280.2730\u001b[0m  3.0215\n",
      "     37      \u001b[36m421.0646\u001b[0m      \u001b[32m237.0481\u001b[0m  2.9239\n",
      "     38      \u001b[36m403.0099\u001b[0m      \u001b[32m231.2441\u001b[0m  2.9266\n",
      "     39      \u001b[36m379.3136\u001b[0m      \u001b[32m220.6622\u001b[0m  3.2973\n",
      "     40      \u001b[36m370.2166\u001b[0m      \u001b[32m205.0496\u001b[0m  4.7943\n",
      "     41      \u001b[36m348.9871\u001b[0m      213.3557  5.0123\n",
      "     42      353.0610      \u001b[32m180.9222\u001b[0m  4.9617\n",
      "     43      \u001b[36m327.9992\u001b[0m      184.3638  4.8659\n",
      "     44      \u001b[36m309.4541\u001b[0m      \u001b[32m164.4432\u001b[0m  5.0277\n",
      "     45      \u001b[36m303.1055\u001b[0m      \u001b[32m148.8070\u001b[0m  2.8338\n",
      "     46      \u001b[36m296.5498\u001b[0m      150.5816  2.2553\n",
      "     47      \u001b[36m292.1902\u001b[0m      \u001b[32m141.7633\u001b[0m  2.3621\n",
      "     48      \u001b[36m285.9853\u001b[0m      166.7647  2.9878\n",
      "     49      \u001b[36m257.2981\u001b[0m      \u001b[32m120.8500\u001b[0m  3.1133\n",
      "     50      268.1018      \u001b[32m120.6536\u001b[0m  2.7678\n",
      "Best parameters: {'lr': 0.001, 'max_epochs': 50, 'module__dropout': 0.2, 'module__num_units': 50}\n"
     ]
    }
   ],
   "source": [
    "gs = GridSearchCV(net, params, refit=False, cv=2, scoring='neg_mean_squared_error')\n",
    "gs.fit(X_train, y_train)\n",
    "print(\"Best parameters:\", gs.best_params_)"
   ]
  },
  {
   "cell_type": "code",
   "execution_count": 8,
   "metadata": {},
   "outputs": [
    {
     "name": "stdout",
     "output_type": "stream",
     "text": [
      "Best parameters found: {'lr': 0.001, 'max_epochs': 50, 'module__dropout': 0.2, 'module__num_units': 50}\n",
      "  epoch    train_loss    valid_loss     dur\n",
      "-------  ------------  ------------  ------\n",
      "      1    \u001b[36m27257.3528\u001b[0m    \u001b[32m16205.2352\u001b[0m  4.3410\n",
      "      2    \u001b[36m19882.8209\u001b[0m    \u001b[32m11280.9413\u001b[0m  3.7623\n",
      "      3    \u001b[36m14772.8057\u001b[0m     \u001b[32m7998.7779\u001b[0m  4.2004\n",
      "      4    \u001b[36m11232.4202\u001b[0m     \u001b[32m5944.0771\u001b[0m  3.8333\n",
      "      5     \u001b[36m8838.5222\u001b[0m     \u001b[32m4787.5678\u001b[0m  5.5784\n",
      "      6     \u001b[36m6782.1534\u001b[0m     \u001b[32m2942.4359\u001b[0m  4.3979\n",
      "      7     \u001b[36m5093.9218\u001b[0m     \u001b[32m2119.1037\u001b[0m  4.9869\n",
      "      8     \u001b[36m3910.9967\u001b[0m     \u001b[32m1462.8704\u001b[0m  5.6649\n",
      "      9     \u001b[36m2993.8292\u001b[0m     \u001b[32m1055.4441\u001b[0m  9.7650\n",
      "     10     \u001b[36m2340.3154\u001b[0m      \u001b[32m757.2230\u001b[0m  6.2448\n",
      "     11     \u001b[36m1825.1369\u001b[0m      \u001b[32m557.5462\u001b[0m  4.9090\n",
      "     12     \u001b[36m1452.6587\u001b[0m      \u001b[32m410.8526\u001b[0m  4.6777\n",
      "     13     \u001b[36m1179.8441\u001b[0m      \u001b[32m309.4112\u001b[0m  4.6783\n",
      "     14      \u001b[36m980.0876\u001b[0m      \u001b[32m243.8995\u001b[0m  5.2875\n",
      "     15      \u001b[36m815.4765\u001b[0m      \u001b[32m192.3379\u001b[0m  6.7135\n",
      "     16      \u001b[36m711.1114\u001b[0m      \u001b[32m150.9290\u001b[0m  8.7919\n",
      "     17      \u001b[36m604.7810\u001b[0m      \u001b[32m129.4005\u001b[0m  6.7850\n",
      "     18      \u001b[36m589.2769\u001b[0m      \u001b[32m123.6389\u001b[0m  3.7686\n",
      "     19      \u001b[36m521.2623\u001b[0m      \u001b[32m103.6744\u001b[0m  3.7993\n",
      "     20      \u001b[36m456.1850\u001b[0m      105.0770  3.9359\n",
      "     21      \u001b[36m419.4395\u001b[0m      105.7370  4.5851\n",
      "     22      \u001b[36m418.5192\u001b[0m       \u001b[32m96.7036\u001b[0m  4.4982\n",
      "     23      \u001b[36m384.5855\u001b[0m       \u001b[32m69.1029\u001b[0m  4.4326\n",
      "     24      \u001b[36m352.9735\u001b[0m       92.1053  4.4014\n",
      "     25      \u001b[36m334.1815\u001b[0m       \u001b[32m65.1148\u001b[0m  4.3008\n",
      "     26      338.7973       67.1715  4.3575\n",
      "     27      \u001b[36m315.6416\u001b[0m       69.5483  4.3311\n",
      "     28      \u001b[36m315.5020\u001b[0m       65.9370  4.4711\n",
      "     29      \u001b[36m296.2050\u001b[0m       \u001b[32m57.5200\u001b[0m  4.3390\n",
      "     30      298.7642       \u001b[32m46.4481\u001b[0m  4.7696\n",
      "     31      \u001b[36m288.5408\u001b[0m       56.1268  9.6448\n",
      "     32      291.1036       \u001b[32m44.8374\u001b[0m  4.2928\n",
      "     33      \u001b[36m274.2283\u001b[0m       \u001b[32m42.9799\u001b[0m  4.9315\n",
      "     34      \u001b[36m267.8083\u001b[0m       43.8249  4.3983\n",
      "     35      \u001b[36m265.3272\u001b[0m       49.3327  4.2448\n",
      "     36      \u001b[36m263.3345\u001b[0m       55.1086  4.3157\n",
      "     37      272.5057       44.9821  4.2804\n",
      "     38      \u001b[36m257.5200\u001b[0m       55.9845  4.3525\n",
      "     39      257.9232       66.2920  4.2675\n",
      "     40      \u001b[36m240.9811\u001b[0m       \u001b[32m42.8838\u001b[0m  4.2176\n",
      "     41      246.8581       43.6661  4.2729\n",
      "     42      260.6221       64.4859  4.2596\n",
      "     43      251.2234       51.0202  4.2345\n",
      "     44      247.7276       45.6003  4.2368\n",
      "     45      248.5690       \u001b[32m42.8239\u001b[0m  4.7498\n",
      "     46      243.7212       48.7792  4.4951\n",
      "     47      \u001b[36m224.4870\u001b[0m       49.1364  4.3150\n",
      "     48      248.8846       62.3626  4.3353\n",
      "     49      243.1015       \u001b[32m40.8396\u001b[0m  4.2410\n",
      "     50      229.4849       \u001b[32m38.6759\u001b[0m  4.1859\n",
      "[[167.90273]\n",
      " [172.50713]\n",
      " [173.99348]\n",
      " ...\n",
      " [232.08235]\n",
      " [236.76552]\n",
      " [226.61375]]\n"
     ]
    }
   ],
   "source": [
    "# Extract the best parameters\n",
    "best_params = gs.best_params_\n",
    "print(\"Best parameters found:\", best_params)\n",
    "\n",
    "# Create a new model instance with the best parameters\n",
    "best_model = NeuralNetRegressor(\n",
    "    module=LSTMRegressor,\n",
    "    criterion=nn.MSELoss,\n",
    "    optimizer=torch.optim.Adam,\n",
    "    lr=best_params['lr'],\n",
    "    batch_size=16,\n",
    "    max_epochs=best_params['max_epochs'],\n",
    "    module__num_units=best_params['module__num_units'],\n",
    "    module__dropout=best_params['module__dropout'],\n",
    "    verbose=1,\n",
    ")\n",
    "\n",
    "\n",
    "best_model.fit(X_train, y_train)\n",
    "\n"
   ]
  },
  {
   "cell_type": "code",
   "execution_count": 9,
   "metadata": {},
   "outputs": [
    {
     "data": {
      "text/plain": [
       "array([[167.90273],\n",
       "       [172.50713],\n",
       "       [173.99348],\n",
       "       ...,\n",
       "       [232.08235],\n",
       "       [236.76552],\n",
       "       [226.61375]], dtype=float32)"
      ]
     },
     "execution_count": 9,
     "metadata": {},
     "output_type": "execute_result"
    }
   ],
   "source": [
    "# Assuming `testX` is your input test data prepared as before\n",
    "# Make predictions using the best model\n",
    "X_test = torch.tensor(testX.astype(np.float32))\n",
    "y_pred = best_model.predict(X_test)\n",
    "# Output predictions\n",
    "y_pred"
   ]
  },
  {
   "cell_type": "code",
   "execution_count": 18,
   "metadata": {},
   "outputs": [
    {
     "data": {
      "text/plain": [
       "array([167.90273, 172.50713, 173.99348, ..., 232.08235, 236.76552,\n",
       "       226.61375], dtype=float32)"
      ]
     },
     "execution_count": 18,
     "metadata": {},
     "output_type": "execute_result"
    }
   ],
   "source": [
    "y_pred=y_pred.reshape(-1)\n",
    "y_pred"
   ]
  },
  {
   "cell_type": "code",
   "execution_count": 24,
   "metadata": {},
   "outputs": [
    {
     "data": {
      "image/png": "[encoded data removed]",
      "text/plain": [
       "<Figure size 640x480 with 1 Axes>"
      ]
     },
     "metadata": {},
     "output_type": "display_data"
    }
   ],
   "source": [
    "import matplotlib.pyplot as plt\n",
    "plt.plot(testY[:10], color = 'red', label = 'Real')\n",
    "plt.plot(y_pred[:10], color = 'blue', label = 'Predicted')\n",
    "plt.title('Prediction')\n",
    "plt.xlabel('Time')\n",
    "plt.ylabel('CGM')\n",
    "plt.legend()\n",
    "plt.show()"
   ]
  }
 ],
 "metadata": {
  "kernelspec": {
   "display_name": "xai",
   "language": "python",
   "name": "python3"
  },
  "language_info": {
   "codemirror_mode": {
    "name": "ipython",
    "version": 3
   },
   "file_extension": ".py",
   "mimetype": "text/x-python",
   "name": "python",
   "nbconvert_exporter": "python",
   "pygments_lexer": "ipython3",
   "version": "3.9.18"
  }
 },
 "nbformat": 4,
 "nbformat_minor": 2
}
